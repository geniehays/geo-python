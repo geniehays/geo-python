{
 "cells": [
  {
   "cell_type": "code",
   "execution_count": 1,
   "id": "2fbfb0b3-c842-4bee-9002-e90fd216b292",
   "metadata": {},
   "outputs": [],
   "source": [
    "ice_cream_rating = 5.0"
   ]
  },
  {
   "cell_type": "code",
   "execution_count": 2,
   "id": "cc458f2c-9f0f-44a3-88ad-39ccaada1cef",
   "metadata": {},
   "outputs": [],
   "source": [
    "sleeping_rating = 10.0"
   ]
  },
  {
   "cell_type": "code",
   "execution_count": 4,
   "id": "79d0be96-1501-4c4f-baf6-9a80282021a4",
   "metadata": {},
   "outputs": [],
   "source": [
    "first_name = \"Genie\""
   ]
  },
  {
   "cell_type": "code",
   "execution_count": 6,
   "id": "3f2ea24a-82a8-4435-97b8-9de280aaa70f",
   "metadata": {},
   "outputs": [],
   "source": [
    "last_name = \"Hays\""
   ]
  },
  {
   "cell_type": "code",
   "execution_count": 10,
   "id": "8dc4c80b-498c-4d49-9cf4-c4b109d795c6",
   "metadata": {},
   "outputs": [],
   "source": [
    "my_name = first_name + ' ' + last_name"
   ]
  },
  {
   "cell_type": "code",
   "execution_count": 11,
   "id": "1b3b554e-4481-49af-8a8f-a8ccd38dc5a4",
   "metadata": {},
   "outputs": [
    {
     "name": "stdout",
     "output_type": "stream",
     "text": [
      "Genie Hays\n"
     ]
    }
   ],
   "source": [
    "print(my_name)"
   ]
  },
  {
   "cell_type": "code",
   "execution_count": 16,
   "id": "4e94471e-ae81-4694-9e7e-7d92e3762634",
   "metadata": {},
   "outputs": [],
   "source": [
    "avg_rating = (ice_cream_rating + sleeping_rating)/2"
   ]
  },
  {
   "cell_type": "code",
   "execution_count": 17,
   "id": "4c5c0b76-d1ce-4534-ab39-b251901d2a98",
   "metadata": {},
   "outputs": [
    {
     "name": "stdout",
     "output_type": "stream",
     "text": [
      "7.5\n"
     ]
    }
   ],
   "source": [
    "print(avg_rating)"
   ]
  },
  {
   "cell_type": "code",
   "execution_count": 18,
   "id": "e5fee194-2244-41f0-b248-51ab6f78847f",
   "metadata": {},
   "outputs": [
    {
     "data": {
      "text/plain": [
       "float"
      ]
     },
     "execution_count": 18,
     "metadata": {},
     "output_type": "execute_result"
    }
   ],
   "source": [
    "type(ice_cream_rating)"
   ]
  },
  {
   "cell_type": "code",
   "execution_count": 20,
   "id": "c985c231-b140-432b-9136-7a7f001388bf",
   "metadata": {},
   "outputs": [
    {
     "data": {
      "text/plain": [
       "str"
      ]
     },
     "execution_count": 20,
     "metadata": {},
     "output_type": "execute_result"
    }
   ],
   "source": [
    "type(my_name)"
   ]
  },
  {
   "cell_type": "code",
   "execution_count": 21,
   "id": "bf9771ef-4624-45c3-b8a5-931dc96133aa",
   "metadata": {},
   "outputs": [
    {
     "data": {
      "text/plain": [
       "float"
      ]
     },
     "execution_count": 21,
     "metadata": {},
     "output_type": "execute_result"
    }
   ],
   "source": [
    "type(sleeping_rating)"
   ]
  },
  {
   "cell_type": "code",
   "execution_count": 22,
   "id": "a5e6ee2d-ba4f-436e-a2f3-eac724b52e8e",
   "metadata": {},
   "outputs": [
    {
     "data": {
      "text/plain": [
       "str"
      ]
     },
     "execution_count": 22,
     "metadata": {},
     "output_type": "execute_result"
    }
   ],
   "source": [
    "type(first_name)"
   ]
  },
  {
   "cell_type": "code",
   "execution_count": 23,
   "id": "9fa39a79-60df-4c7e-abc5-9682affef6de",
   "metadata": {},
   "outputs": [
    {
     "data": {
      "text/plain": [
       "str"
      ]
     },
     "execution_count": 23,
     "metadata": {},
     "output_type": "execute_result"
    }
   ],
   "source": [
    "type(last_name)"
   ]
  },
  {
   "cell_type": "markdown",
   "id": "36815fa2-ce8e-43f4-93f1-1093c40840ad",
   "metadata": {},
   "source": [
    "## Problem 5 - Checking data types\n",
    "\n",
    "#### Did all the function types make sense? Were there any data types that were different than you expected? In the new Python cell that appeared after running the code above, type in your responses to these questions."
   ]
  },
  {
   "cell_type": "markdown",
   "id": "93a38178-09dc-4239-a85d-016efb02a401",
   "metadata": {},
   "source": [
    "Yes, the above function types for each of the variables I created made sense. Nothing was different than I expected...letter variables are string types and number variables are float types."
   ]
  },
  {
   "cell_type": "code",
   "execution_count": 27,
   "id": "eea899eb-cbff-4638-afe1-019d640093aa",
   "metadata": {},
   "outputs": [
    {
     "name": "stdout",
     "output_type": "stream",
     "text": [
      "My name is Genie and I give eating ice cream a 5.0 out of 10.\n"
     ]
    }
   ],
   "source": [
    "print(\"My name is\", (first_name), \"and I give eating ice cream a\", (ice_cream_rating), \"out of 10.\")"
   ]
  },
  {
   "cell_type": "code",
   "execution_count": 29,
   "id": "f2b97206-50b5-4fc4-ade0-b6e89839a4af",
   "metadata": {},
   "outputs": [
    {
     "name": "stdout",
     "output_type": "stream",
     "text": [
      "I am Genie Hays and my sleeping enjoyment rating is 10.0 / 10!\n"
     ]
    }
   ],
   "source": [
    "print(\"I am\", (my_name), \"and my sleeping enjoyment rating is\", (sleeping_rating),\"/ 10!\")"
   ]
  },
  {
   "cell_type": "code",
   "execution_count": null,
   "id": "b69f5cd9-954d-4c34-917c-3427766b1575",
   "metadata": {},
   "outputs": [],
   "source": []
  }
 ],
 "metadata": {
  "kernelspec": {
   "display_name": "Python 3 (ipykernel)",
   "language": "python",
   "name": "python3"
  },
  "language_info": {
   "codemirror_mode": {
    "name": "ipython",
    "version": 3
   },
   "file_extension": ".py",
   "mimetype": "text/x-python",
   "name": "python",
   "nbconvert_exporter": "python",
   "pygments_lexer": "ipython3",
   "version": "3.11.7"
  }
 },
 "nbformat": 4,
 "nbformat_minor": 5
}
